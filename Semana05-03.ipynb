{
 "cells": [
  {
   "cell_type": "markdown",
   "id": "b0ab64e6",
   "metadata": {},
   "source": [
    "# Semana 05\n",
    "\n",
    "Garcia Chavez Abraham Anibal"
   ]
  },
  {
   "cell_type": "raw",
   "id": "f480e035",
   "metadata": {},
   "source": [
    "Temas\n",
    "\n",
    "1. Colecciones de datos\n",
    "2. Estructuras Decisivas y Estructuras Repetitivas\n",
    "3. Funciones\n",
    "4. Clases y Objetos"
   ]
  },
  {
   "cell_type": "markdown",
   "id": "8b1b5b62",
   "metadata": {},
   "source": [
    "3. Funciones"
   ]
  },
  {
   "cell_type": "code",
   "execution_count": 10,
   "id": "e6661c4f",
   "metadata": {},
   "outputs": [],
   "source": [
    "# También conocidos como métodos"
   ]
  },
  {
   "cell_type": "code",
   "execution_count": 11,
   "id": "4855aee8",
   "metadata": {},
   "outputs": [],
   "source": [
    "# Para crear un método utilizamos: \" def \"\n",
    "# Tenemos 4 métodos:\n",
    "# - Métodos vacíos\n",
    "# - Métodos que reciben valores\n",
    "# - Métodos que devuelven un valor\n",
    "# - Métodos que reciben y devuelven valores"
   ]
  },
  {
   "cell_type": "code",
   "execution_count": 12,
   "id": "46ff4931",
   "metadata": {},
   "outputs": [],
   "source": [
    "# 3.1 Métodos vacíos\n",
    "# Explicación: No recibe valores (Parámetros)"
   ]
  },
  {
   "cell_type": "code",
   "execution_count": 14,
   "id": "7a5c6707",
   "metadata": {},
   "outputs": [],
   "source": [
    "def saludo():\n",
    "    print(\"Bienvenidos al curso de LP3\")\n",
    "    print(\"**** Python ****\")"
   ]
  },
  {
   "cell_type": "code",
   "execution_count": 15,
   "id": "b605f7c7",
   "metadata": {},
   "outputs": [
    {
     "name": "stdout",
     "output_type": "stream",
     "text": [
      "Bienvenidos al curso de LP3\n",
      "**** Python ****\n"
     ]
    }
   ],
   "source": [
    "saludo()"
   ]
  },
  {
   "cell_type": "code",
   "execution_count": 16,
   "id": "7cce4059",
   "metadata": {},
   "outputs": [],
   "source": [
    "# 3.2 Metodos que reciben valores"
   ]
  },
  {
   "cell_type": "code",
   "execution_count": 17,
   "id": "5f92208c",
   "metadata": {},
   "outputs": [],
   "source": [
    "def factorial(numero):\n",
    "    fact = 1\n",
    "    for i in range(1,numero+1):\n",
    "        fact*=i\n",
    "        #fact = fact * i\n",
    "    print(f\" El factorial es : {fact}\")"
   ]
  },
  {
   "cell_type": "code",
   "execution_count": 19,
   "id": "7dded5dc",
   "metadata": {},
   "outputs": [
    {
     "name": "stdout",
     "output_type": "stream",
     "text": [
      "Ingrese numero: 6\n",
      " El factorial es : 720\n"
     ]
    }
   ],
   "source": [
    "numero = int(input(\"Ingrese numero: \"))\n",
    "factorial(numero)"
   ]
  },
  {
   "cell_type": "code",
   "execution_count": 23,
   "id": "f2c409fa",
   "metadata": {},
   "outputs": [],
   "source": [
    "# 3.3 Metodos que devuelven valores"
   ]
  },
  {
   "cell_type": "code",
   "execution_count": 24,
   "id": "f636f153",
   "metadata": {},
   "outputs": [],
   "source": [
    "def saludo2():\n",
    "    mensaje = \"Bienvenidos a LP3\"\n",
    "    return mensaje"
   ]
  },
  {
   "cell_type": "code",
   "execution_count": 25,
   "id": "0377205e",
   "metadata": {},
   "outputs": [
    {
     "name": "stdout",
     "output_type": "stream",
     "text": [
      "Bienvenidos a LP3\n"
     ]
    }
   ],
   "source": [
    "print(saludo2())"
   ]
  },
  {
   "cell_type": "code",
   "execution_count": 26,
   "id": "6a985fda",
   "metadata": {},
   "outputs": [],
   "source": [
    "# 3.4 Métodos que reciben y devuelven valores"
   ]
  },
  {
   "cell_type": "code",
   "execution_count": 27,
   "id": "84c015aa",
   "metadata": {},
   "outputs": [],
   "source": [
    "def factorial2(numero):\n",
    "    fac = 1\n",
    "    for i in range(1,numero+1):\n",
    "        fac*=i\n",
    "        #fac = fac * i\n",
    "    return fac"
   ]
  },
  {
   "cell_type": "code",
   "execution_count": 28,
   "id": "28cb5344",
   "metadata": {},
   "outputs": [
    {
     "name": "stdout",
     "output_type": "stream",
     "text": [
      " Numero : 5\n",
      "El factorial de 6 es 120\n"
     ]
    }
   ],
   "source": [
    "numero2 = int(input(\" Numero : \"))\n",
    "print(f\"El factorial de {numero} es {factorial2(numero2)}\")"
   ]
  },
  {
   "cell_type": "code",
   "execution_count": 29,
   "id": "7b28f1bd",
   "metadata": {},
   "outputs": [],
   "source": [
    "### OTRO EJEMPLO\n",
    "#Calcular el IGV\n",
    "\n",
    "def obtenerigv(importe):\n",
    "    return importe*0.19"
   ]
  },
  {
   "cell_type": "code",
   "execution_count": 30,
   "id": "1d616c9b",
   "metadata": {},
   "outputs": [
    {
     "data": {
      "text/plain": [
       "190.0"
      ]
     },
     "execution_count": 30,
     "metadata": {},
     "output_type": "execute_result"
    }
   ],
   "source": [
    "obtenerigv(1000)"
   ]
  },
  {
   "cell_type": "code",
   "execution_count": 32,
   "id": "25bb2689",
   "metadata": {},
   "outputs": [
    {
     "data": {
      "text/plain": [
       "170"
      ]
     },
     "execution_count": 32,
     "metadata": {},
     "output_type": "execute_result"
    }
   ],
   "source": [
    "factorial2(5)+50"
   ]
  }
 ],
 "metadata": {
  "kernelspec": {
   "display_name": "Python 3 (ipykernel)",
   "language": "python",
   "name": "python3"
  },
  "language_info": {
   "codemirror_mode": {
    "name": "ipython",
    "version": 3
   },
   "file_extension": ".py",
   "mimetype": "text/x-python",
   "name": "python",
   "nbconvert_exporter": "python",
   "pygments_lexer": "ipython3",
   "version": "3.11.7"
  }
 },
 "nbformat": 4,
 "nbformat_minor": 5
}
