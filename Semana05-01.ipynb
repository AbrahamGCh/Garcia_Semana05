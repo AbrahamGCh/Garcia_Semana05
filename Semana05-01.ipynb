{
 "cells": [
  {
   "cell_type": "markdown",
   "id": "2f4a06f1",
   "metadata": {},
   "source": [
    "# Semana 05\n",
    "\n",
    "Garcia Chavez Abraham Anibal"
   ]
  },
  {
   "cell_type": "raw",
   "id": "c096de99",
   "metadata": {},
   "source": [
    "Temas\n",
    "\n",
    "1. Colecciones de datos\n",
    "2. Estructuras Decisivas y Estructuras Repetitivas\n",
    "3. Clases y Objetos\n",
    "4. Funciones"
   ]
  },
  {
   "cell_type": "markdown",
   "id": "5be1a749",
   "metadata": {},
   "source": [
    "1. Colecciones de datos"
   ]
  },
  {
   "cell_type": "code",
   "execution_count": 1,
   "id": "bebb8c01",
   "metadata": {},
   "outputs": [
    {
     "name": "stdout",
     "output_type": "stream",
     "text": [
      "['Huertas', 'Bravo', 'Bonifacio', 'Cabellero']\n"
     ]
    }
   ],
   "source": [
    "#1.1. Listas\n",
    "# Es una colecciòn de elementos que puede ser ordenada, modificada, etc ..\n",
    "# Se identifica los corchetes\n",
    "# Ejemplo:\n",
    "\n",
    "aula = ['Huertas','Bravo','Bonifacio','Cabellero']\n",
    "print(aula)"
   ]
  },
  {
   "cell_type": "code",
   "execution_count": 2,
   "id": "86cdff95",
   "metadata": {},
   "outputs": [
    {
     "data": {
      "text/plain": [
       "['Huertas', 'Bravo', 'Bonifacio', 'Cabellero']"
      ]
     },
     "execution_count": 2,
     "metadata": {},
     "output_type": "execute_result"
    }
   ],
   "source": [
    "#Tambien se puede imprimir con solo mencionar la lista\n",
    "aula"
   ]
  },
  {
   "cell_type": "code",
   "execution_count": 3,
   "id": "0a055d62",
   "metadata": {},
   "outputs": [
    {
     "name": "stdout",
     "output_type": "stream",
     "text": [
      "Huertas\n",
      "Bonifacio\n",
      "Bravo\n"
     ]
    }
   ],
   "source": [
    "#Podemos extraer cada elemento por su posiciòn\n",
    "print(aula[0])\n",
    "print(aula[2])\n",
    "print(aula[1])"
   ]
  },
  {
   "cell_type": "code",
   "execution_count": 4,
   "id": "f4081a12",
   "metadata": {},
   "outputs": [
    {
     "data": {
      "text/plain": [
       "'Fernandez'"
      ]
     },
     "execution_count": 4,
     "metadata": {},
     "output_type": "execute_result"
    }
   ],
   "source": [
    "#Puedo asignar un valor a una posicion de la lista\n",
    "aula[1]='Fernandez'\n",
    "aula[1]"
   ]
  },
  {
   "cell_type": "code",
   "execution_count": 5,
   "id": "7e747cd5",
   "metadata": {},
   "outputs": [
    {
     "data": {
      "text/plain": [
       "['Huertas', 'Fernandez', 'Bonifacio', 'Cabellero']"
      ]
     },
     "execution_count": 5,
     "metadata": {},
     "output_type": "execute_result"
    }
   ],
   "source": [
    "#Mostramos como quedo la lista\n",
    "aula"
   ]
  },
  {
   "cell_type": "code",
   "execution_count": 6,
   "id": "c4a4b63f",
   "metadata": {},
   "outputs": [
    {
     "data": {
      "text/plain": [
       "['Huertas', 'Fernandez', 'Bonifacio', 'Cabellero', 'Mamani', 'Bonifacio']"
      ]
     },
     "execution_count": 6,
     "metadata": {},
     "output_type": "execute_result"
    }
   ],
   "source": [
    "#Para agregar un elmento se utilizara el \"append\"\n",
    "aula.append(\"Mamani\")\n",
    "aula.append(\"Bonifacio\")\n",
    "aula"
   ]
  },
  {
   "cell_type": "code",
   "execution_count": 7,
   "id": "c57e4f60",
   "metadata": {},
   "outputs": [
    {
     "data": {
      "text/plain": [
       "['Fernandez', 'Bonifacio', 'Cabellero', 'Mamani', 'Bonifacio']"
      ]
     },
     "execution_count": 7,
     "metadata": {},
     "output_type": "execute_result"
    }
   ],
   "source": [
    "#Para eliminar elementos utilizamos el \"remove[]\"\n",
    "aula.remove(\"Huertas\")\n",
    "aula"
   ]
  },
  {
   "cell_type": "code",
   "execution_count": 8,
   "id": "b2b40693",
   "metadata": {},
   "outputs": [
    {
     "data": {
      "text/plain": [
       "['Fernandez', 'Cabellero', 'Mamani', 'Bonifacio']"
      ]
     },
     "execution_count": 8,
     "metadata": {},
     "output_type": "execute_result"
    }
   ],
   "source": [
    "#Si hubiera varios elementos de valores iguales se elimina la prima coincidencia\n",
    "aula.remove(\"Bonifacio\")\n",
    "aula"
   ]
  },
  {
   "cell_type": "code",
   "execution_count": 9,
   "id": "e9c69c08",
   "metadata": {},
   "outputs": [
    {
     "data": {
      "text/plain": [
       "4"
      ]
     },
     "execution_count": 9,
     "metadata": {},
     "output_type": "execute_result"
    }
   ],
   "source": [
    "#Para obtener el tamaño de la lista utilizaremos el \"len()\"\n",
    "len(aula)"
   ]
  },
  {
   "cell_type": "code",
   "execution_count": 10,
   "id": "6f55d5d0",
   "metadata": {},
   "outputs": [
    {
     "name": "stdout",
     "output_type": "stream",
     "text": [
      "Fernandez\n",
      "Cabellero\n",
      "Mamani\n",
      "Bonifacio\n"
     ]
    }
   ],
   "source": [
    "#Para recorrer podemos utilizar una estructura repetitiva\n",
    "for alumno in aula:\n",
    "    print(alumno)"
   ]
  },
  {
   "cell_type": "code",
   "execution_count": 11,
   "id": "df0be6bc",
   "metadata": {},
   "outputs": [
    {
     "data": {
      "text/plain": [
       "['Bonifacio', 'Mamani', 'Cabellero', 'Fernandez']"
      ]
     },
     "execution_count": 11,
     "metadata": {},
     "output_type": "execute_result"
    }
   ],
   "source": [
    "#Para invertir la lista se utilizara \"reverse()\"\n",
    "#invertir NO significa ordenar en forma descendente sin invertir la lista\n",
    "aula.reverse()\n",
    "aula"
   ]
  },
  {
   "cell_type": "code",
   "execution_count": 12,
   "id": "b5bd516e",
   "metadata": {},
   "outputs": [
    {
     "data": {
      "text/plain": [
       "['Bonifacio', 'Cabellero', 'Fernandez', 'Mamani']"
      ]
     },
     "execution_count": 12,
     "metadata": {},
     "output_type": "execute_result"
    }
   ],
   "source": [
    "#Para ordenar una lista se utilizara \"sort()\"\n",
    "aula.sort()\n",
    "aula"
   ]
  },
  {
   "cell_type": "code",
   "execution_count": 13,
   "id": "312370cf",
   "metadata": {},
   "outputs": [
    {
     "data": {
      "text/plain": [
       "('Huertas', 'Bravo', 'Bonifacio', 'Cabellero')"
      ]
     },
     "execution_count": 13,
     "metadata": {},
     "output_type": "execute_result"
    }
   ],
   "source": [
    "#1.2 Tuplas\n",
    "# Es una coleccion de elementos ordenada (Ordenado significa que tiene un indice) que no se pueden modificar, es inalterable.\n",
    "# No se pueden agregar elementos ni eliminar.\n",
    "# se identifica por los parentesis\n",
    "tupla_aula=('Huertas', 'Bravo', 'Bonifacio', 'Cabellero')\n",
    "tupla_aula"
   ]
  },
  {
   "cell_type": "code",
   "execution_count": 14,
   "id": "38969406",
   "metadata": {},
   "outputs": [
    {
     "data": {
      "text/plain": [
       "'Bonifacio'"
      ]
     },
     "execution_count": 14,
     "metadata": {},
     "output_type": "execute_result"
    }
   ],
   "source": [
    "#Se puede extraer un elemento por su posiciòn\n",
    "tupla_aula[2]"
   ]
  },
  {
   "cell_type": "code",
   "execution_count": 15,
   "id": "32a1f573",
   "metadata": {},
   "outputs": [
    {
     "data": {
      "text/plain": [
       "4"
      ]
     },
     "execution_count": 15,
     "metadata": {},
     "output_type": "execute_result"
    }
   ],
   "source": [
    "#Para saber la cantidad de elementos de una tupla utilizamos \" len() \"\n",
    "len(tupla_aula)"
   ]
  },
  {
   "cell_type": "code",
   "execution_count": 16,
   "id": "f478f76d",
   "metadata": {},
   "outputs": [
    {
     "data": {
      "text/plain": [
       "{'Bonifacio', 'Bravo', 'Cabellero', 'Huertas'}"
      ]
     },
     "execution_count": 16,
     "metadata": {},
     "output_type": "execute_result"
    }
   ],
   "source": [
    "# 1.3 Conjuntos\n",
    "# Es una colecciìn de elementos que no esta ordenado\n",
    "   #(Significa que no tiene un indice)\n",
    "conjunto_aula = {'Huertas', 'Bravo', 'Bonifacio', 'Cabellero'}\n",
    "conjunto_aula"
   ]
  },
  {
   "cell_type": "code",
   "execution_count": 17,
   "id": "89eb591b",
   "metadata": {},
   "outputs": [
    {
     "name": "stdout",
     "output_type": "stream",
     "text": [
      "Cabellero\n",
      "Huertas\n",
      "Bonifacio\n",
      "Bravo\n"
     ]
    }
   ],
   "source": [
    "# Se puede recorrer utilizando una estructura repetitiva\n",
    "# Ejemplo: for\n",
    "\n",
    "for alumno in conjunto_aula:\n",
    "    print(alumno)"
   ]
  },
  {
   "cell_type": "code",
   "execution_count": 20,
   "id": "8428f1b6",
   "metadata": {},
   "outputs": [
    {
     "ename": "SyntaxError",
     "evalue": "invalid syntax (500763459.py, line 3)",
     "output_type": "error",
     "traceback": [
      "\u001b[1;36m  Cell \u001b[1;32mIn[20], line 3\u001b[1;36m\u001b[0m\n\u001b[1;33m    conjunto_aula[1] devolveria un mensaje de error\u001b[0m\n\u001b[1;37m                     ^\u001b[0m\n\u001b[1;31mSyntaxError\u001b[0m\u001b[1;31m:\u001b[0m invalid syntax\n"
     ]
    }
   ],
   "source": [
    "# OBSERVACIÒN: No se puede acceder por posiciòn pues no considera indexacion\n",
    "# Por ejemplo:\n",
    "conjunto_aula[1] devolveria un mensaje de error"
   ]
  },
  {
   "cell_type": "code",
   "execution_count": 21,
   "id": "013f4ac8",
   "metadata": {},
   "outputs": [
    {
     "data": {
      "text/plain": [
       "4"
      ]
     },
     "execution_count": 21,
     "metadata": {},
     "output_type": "execute_result"
    }
   ],
   "source": [
    "# Para saber la cantidad de elementos utilizamos \" len( ) \"\n",
    "len(conjunto_aula)"
   ]
  },
  {
   "cell_type": "code",
   "execution_count": 22,
   "id": "4c2410fe",
   "metadata": {},
   "outputs": [
    {
     "data": {
      "text/plain": [
       "{'Bonifacio', 'Bravo', 'Cabellero', 'Huertas', 'Paye'}"
      ]
     },
     "execution_count": 22,
     "metadata": {},
     "output_type": "execute_result"
    }
   ],
   "source": [
    "# Para agregar utilizamos la funciòn \" add() \"\n",
    "conjunto_aula.add(\"Paye\")\n",
    "conjunto_aula"
   ]
  },
  {
   "cell_type": "code",
   "execution_count": 23,
   "id": "0303ccaa",
   "metadata": {},
   "outputs": [
    {
     "data": {
      "text/plain": [
       "{'Bonifacio', 'Cabellero', 'Huertas', 'Paye'}"
      ]
     },
     "execution_count": 23,
     "metadata": {},
     "output_type": "execute_result"
    }
   ],
   "source": [
    "# Para eliminar elementos utilizamos la funciòn \" remove() \"\n",
    "conjunto_aula.remove(\"Bravo\")\n",
    "conjunto_aula"
   ]
  },
  {
   "cell_type": "code",
   "execution_count": 25,
   "id": "0c1130eb",
   "metadata": {},
   "outputs": [
    {
     "data": {
      "text/plain": [
       "{2: 'Huertas', '1': 'Bravo', 'dos': 'Bonifacio', '3': 'Cabellero', '0': 'Paye'}"
      ]
     },
     "execution_count": 25,
     "metadata": {},
     "output_type": "execute_result"
    }
   ],
   "source": [
    "# 1.4. DICCIONARIOS\n",
    "# Es una colecciòn de elementos, que estan indexados, \n",
    "# no estan ordenados y se pueden modificar\n",
    "# Son escritos entre llaves y estan formados por pares de elementos\n",
    "# INDICE: VALOR\n",
    "\n",
    "diccionario_aula={2:'Huertas', '1':'Bravo','dos':'Bonifacio','3':'Cabellero',\n",
    "                  '0':'Paye'}\n",
    "diccionario_aula\n",
    "                  "
   ]
  },
  {
   "cell_type": "code",
   "execution_count": 26,
   "id": "03c16485",
   "metadata": {},
   "outputs": [
    {
     "data": {
      "text/plain": [
       "'Paye'"
      ]
     },
     "execution_count": 26,
     "metadata": {},
     "output_type": "execute_result"
    }
   ],
   "source": [
    "#Del DICCIONARIO: diccionario_aula extraer el valor cuyo indice sea cero en String\n",
    "diccionario_aula[\"0\"]"
   ]
  },
  {
   "cell_type": "code",
   "execution_count": 27,
   "id": "9fd34603",
   "metadata": {},
   "outputs": [
    {
     "data": {
      "text/plain": [
       "'Huertas'"
      ]
     },
     "execution_count": 27,
     "metadata": {},
     "output_type": "execute_result"
    }
   ],
   "source": [
    "diccionario_aula[2]"
   ]
  },
  {
   "cell_type": "code",
   "execution_count": 29,
   "id": "cbde26f5",
   "metadata": {},
   "outputs": [
    {
     "data": {
      "text/plain": [
       "'Bravo'"
      ]
     },
     "execution_count": 29,
     "metadata": {},
     "output_type": "execute_result"
    }
   ],
   "source": [
    "diccionario_aula[\"1\"]"
   ]
  },
  {
   "cell_type": "code",
   "execution_count": 30,
   "id": "4c8bd47f",
   "metadata": {},
   "outputs": [
    {
     "data": {
      "text/plain": [
       "'Bonifacio'"
      ]
     },
     "execution_count": 30,
     "metadata": {},
     "output_type": "execute_result"
    }
   ],
   "source": [
    "diccionario_aula['dos']"
   ]
  },
  {
   "cell_type": "code",
   "execution_count": 31,
   "id": "c499d764",
   "metadata": {},
   "outputs": [
    {
     "data": {
      "text/plain": [
       "{2: 'Huertas',\n",
       " '1': 'Bravo',\n",
       " 'dos': 'Bonifacio',\n",
       " '3': 'Cabellero',\n",
       " '0': 'Paye',\n",
       " '20': 'Velez'}"
      ]
     },
     "execution_count": 31,
     "metadata": {},
     "output_type": "execute_result"
    }
   ],
   "source": [
    "# Para añadir un par de elementos al DICCIONARIO se hara:\n",
    "diccionario_aula[\"20\"] = \"Velez\"\n",
    "diccionario_aula"
   ]
  },
  {
   "cell_type": "code",
   "execution_count": 32,
   "id": "170a88bd",
   "metadata": {},
   "outputs": [
    {
     "data": {
      "text/plain": [
       "{'1': 'Bravo',\n",
       " 'dos': 'Bonifacio',\n",
       " '3': 'Cabellero',\n",
       " '0': 'Paye',\n",
       " '20': 'Velez'}"
      ]
     },
     "execution_count": 32,
     "metadata": {},
     "output_type": "execute_result"
    }
   ],
   "source": [
    "# Para eliminar un valor se utiliza \" pop() \"\n",
    "# Por ejemplo, eliinar el elemento de indice dos.\n",
    "# Ejemplo:Para eliminar a Huertas que tendríamos que hacer:\n",
    "diccionario_aula.pop(2)\n",
    "diccionario_aula"
   ]
  },
  {
   "cell_type": "code",
   "execution_count": 33,
   "id": "95c87fb9",
   "metadata": {
    "scrolled": true
   },
   "outputs": [
    {
     "data": {
      "text/plain": [
       "{'1': 'Bravo', '3': 'Cabellero', '0': 'Paye', '20': 'Velez'}"
      ]
     },
     "execution_count": 33,
     "metadata": {},
     "output_type": "execute_result"
    }
   ],
   "source": [
    "# Tambien se puede eliminar usando \" del() \"\n",
    "del(diccionario_aula[\"dos\"])\n",
    "diccionario_aula"
   ]
  },
  {
   "cell_type": "code",
   "execution_count": 34,
   "id": "8ad03e95",
   "metadata": {},
   "outputs": [
    {
     "name": "stdout",
     "output_type": "stream",
     "text": [
      "1 Bravo\n",
      "3 Cabellero\n",
      "0 Paye\n",
      "20 Velez\n"
     ]
    }
   ],
   "source": [
    "# Para obtener el indice y el valor de entrada se utilizara \" items() \"\n",
    "\n",
    "for indice, valor in diccionario_aula.items():\n",
    "    print(indice, valor)"
   ]
  },
  {
   "cell_type": "code",
   "execution_count": null,
   "id": "c6f89ac7",
   "metadata": {},
   "outputs": [
    {
     "name": "stdout",
     "output_type": "stream",
     "text": [
      "Escribir el apellido del estudiante\n"
     ]
    }
   ],
   "source": [
    "# 1.5. EJERCICIO\n",
    "# Dado una lista de [AMES, ARTEAGA , BARRIOS , BONIFACIO, BRAVO, CABALLERO , CAÑAZACA, FERNANDEZ , FLORES , GARCIA , HERRERA ,\n",
    "#                    HUERTA , HUERTAS, JIMENEZ , MAMANI , MANCILLA, PABLO , PAYE , PEÑA , PIZANGO, RAMOS, SANCHEZ,SEVILLANO,\n",
    "#                    TINOCO, TORRES , VALDIVIESO, VELEZ , VILLANUEVA , ZUÑIGA]\n",
    "#\n",
    "# Diseñar un código que muestre si el apellido de un estudiante (Ingresado por teclado) forma parte de la lista\n",
    "# tiempo: 12 minutos\n",
    "\n",
    "Estudiantes = [\"AMES\", \"ARTEAGA\" , \"BARRIOS\" , \"BONIFACIO\", \"BRAVO\", \"CABALLERO\" , \"CAÑAZACA\", \"FERNANDEZ\" , \"FLORES\" , \"GARCIA\" , \"HERRERA\" , \"HUERTA\" , \"HUERTAS\", \"JIMENEZ\" , \"MAMANI\" , \"MANCILLA\", \"PABLO\" , \"PAYE\" , \"PEÑA\" , \"PIZANGO\", \"RAMOS\", \"SANCHEZ\",\"SEVILLANO\", \"TINOCO\", \"TORRES\" , \"VALDIVIESO\", \"VELEZ\" , \"VILLANUEVA\" , \"ZUÑIGA\"]\n",
    "print(\"Escribir el apellido del estudiante\")\n",
    "\n",
    "apellido = input()\n",
    "\n",
    "apellido in Estudiantes\n",
    "\n",
    "correcto = apellido in Estudiantes\n",
    "\n",
    "if correcto:\n",
    "    print(\"El apellido se encuentra en la lista \")\n",
    "else:\n",
    "    print(\"El apellido NO se encuentra en la lista\")"
   ]
  },
  {
   "cell_type": "code",
   "execution_count": null,
   "id": "6be79eff",
   "metadata": {},
   "outputs": [],
   "source": []
  }
 ],
 "metadata": {
  "kernelspec": {
   "display_name": "Python 3 (ipykernel)",
   "language": "python",
   "name": "python3"
  },
  "language_info": {
   "codemirror_mode": {
    "name": "ipython",
    "version": 3
   },
   "file_extension": ".py",
   "mimetype": "text/x-python",
   "name": "python",
   "nbconvert_exporter": "python",
   "pygments_lexer": "ipython3",
   "version": "3.11.7"
  }
 },
 "nbformat": 4,
 "nbformat_minor": 5
}
