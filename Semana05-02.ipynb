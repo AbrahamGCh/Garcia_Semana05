{
 "cells": [
  {
   "cell_type": "markdown",
   "id": "d885c771",
   "metadata": {},
   "source": [
    "# Semana 05\n",
    "\n",
    "Garcia Chavez Abraham Anibal"
   ]
  },
  {
   "cell_type": "raw",
   "id": "a52ec31a",
   "metadata": {},
   "source": [
    "Temas\n",
    "\n",
    "1. Colecciones de datos\n",
    "2. Estructuras Decisivas y Estructuras Repetitivas\n",
    "3. Funciones\n",
    "4. Clases y objetos"
   ]
  },
  {
   "cell_type": "markdown",
   "id": "5429b5b1",
   "metadata": {},
   "source": [
    "2. Estructuras Decisivas y Estructuras Repetitivas"
   ]
  },
  {
   "cell_type": "code",
   "execution_count": 1,
   "id": "e8a78268",
   "metadata": {},
   "outputs": [],
   "source": [
    "# 2.1 Estrcucturas Decisivas (if, elif, else)"
   ]
  },
  {
   "cell_type": "code",
   "execution_count": 2,
   "id": "a172f79b",
   "metadata": {},
   "outputs": [],
   "source": [
    "# if\n",
    "# Problema: Dado el precio de 3 productos ingresados por el teclado,\n",
    "#           aplicar un dscto del 10% si la venta es mayor o igual a 1000."
   ]
  },
  {
   "cell_type": "code",
   "execution_count": 3,
   "id": "99af6745",
   "metadata": {},
   "outputs": [
    {
     "name": "stdout",
     "output_type": "stream",
     "text": [
      "Producto 1:250\n",
      "Producto 2:300\n",
      "Producto 3:550\n",
      "El total a pagar es: 990.0\n"
     ]
    }
   ],
   "source": [
    "# Solución\n",
    "P1 = float(input(\"Producto 1: \"))\n",
    "P2 = float(input(\"Producto 2: \"))\n",
    "P3 = float(input(\"Producto 3: \"))\n",
    "total = P1 + P2 + P3\n",
    "if total>=1000:\n",
    "    total *= 0.9\n",
    "print(f\"El total a pagar es: {total}\")"
   ]
  },
  {
   "cell_type": "code",
   "execution_count": 4,
   "id": "243bb1a0",
   "metadata": {},
   "outputs": [],
   "source": [
    "# if-else"
   ]
  },
  {
   "cell_type": "code",
   "execution_count": 5,
   "id": "dcc24215",
   "metadata": {},
   "outputs": [],
   "source": [
    "# Problema 01 (RECORDANDO)\n",
    "#Dado una lista de [AMES, ARTEAGA , BARRIOS , BONIFACIO, BRAVO, CABALLERO , CAÑAZACA, FERNANDEZ , FLORES , GARCIA , HERRERA ,\n",
    "#                    HUERTA , HUERTAS, JIMENEZ , MAMANI , MANCILLA, PABLO , PAYE , PEÑA , PIZANGO, RAMOS, SANCHEZ,SEVILLANO,\n",
    "#                    TINOCO, TORRES , VALDIVIESO, VELEZ , VILLANUEVA , ZUÑIGA]\n",
    "#\n",
    "# Diseñar un código que muestre si el apellido de un estudiante (Ingresado por teclado) forma parte de la lista"
   ]
  },
  {
   "cell_type": "code",
   "execution_count": 6,
   "id": "3fa0cf65",
   "metadata": {},
   "outputs": [],
   "source": [
    "# Soluciòn:\n",
    "LP3 = [\"AMES\", \"ARTEAGA\", \"BARRIOS \", \"BONIFACIO\", \"BRAVO\", \"CABALLERO\", \"CAÑAZACA\", \"FERNANDEZ\",\n",
    "       \"FLORES\", \"GARCIA\", \"HERRERA\", \"HUERTA\", \"HUERTAS\", \"JIMENEZ\", \"MAMANI\", \"MANCILLA\",\n",
    "       \"PABLO\", \"PAYE\", \"PEÑA\", \"PIZANGO\", \"RAMOS\", \"SANCHEZ\", \"SEVILLANO\", \"TINOCO\", \"TORRES\", \"VALDIVIESO\", \"VELEZ\", \"VILLANUEVA\", \"ZUÑIGA\"]"
   ]
  },
  {
   "cell_type": "code",
   "execution_count": 7,
   "id": "40345586",
   "metadata": {},
   "outputs": [
    {
     "name": "stdout",
     "output_type": "stream",
     "text": [
      "Ingresa nombre a buscar:GARCIA\n",
      "Si esta en la lista de LP3\n"
     ]
    }
   ],
   "source": [
    "apellido = input(\"Ingresa nombre a buscar: \")\n",
    "\n",
    "# Como los datos de la lista estan en mayuscula, utilizo \" upper() \"\n",
    "\n",
    "if apellido.upper() in LP3:  # VUELVE LA ENTRADA EN MAYUSCULA Y ASI BUSCAR EN LA LISTA\n",
    "    print(\"Si esta en la lista de LP3\")\n",
    "else:\n",
    "    print(\"No esta en la lista de LP3\")"
   ]
  },
  {
   "cell_type": "code",
   "execution_count": 8,
   "id": "1a5f3720",
   "metadata": {},
   "outputs": [],
   "source": [
    "# Problema 02\n",
    "# Dado el importe total de ventas realizadas por un trabajador \n",
    "# (ingresado por teclado, categorizar que tipo de empleado es,\n",
    "# considerando la siguiente tabla:"
   ]
  },
  {
   "cell_type": "code",
   "execution_count": 9,
   "id": "5f841b26",
   "metadata": {},
   "outputs": [],
   "source": [
    "# Categoria: A -> [0, 1000]\n",
    "# Categoria: B -> <1000, 2000]\n",
    "# Categoria: C -> <2000, 5000]\n",
    "# Categoría: D -> <5000, Mas]"
   ]
  },
  {
   "cell_type": "code",
   "execution_count": 10,
   "id": "92a83531",
   "metadata": {},
   "outputs": [],
   "source": [
    "# Tiempo asignado: 12 minutos"
   ]
  },
  {
   "cell_type": "code",
   "execution_count": 12,
   "id": "57f13bc4",
   "metadata": {},
   "outputs": [
    {
     "name": "stdout",
     "output_type": "stream",
     "text": [
      "Importe de ventas realizadas:2000\n",
      "Categoria B\n"
     ]
    }
   ],
   "source": [
    "#Solucion\n",
    "ventas = float(input(\"Importe de ventas realizadas: \"))\n",
    "if ventas<0:\n",
    "    print(\"Datos erroneos\")\n",
    "else:\n",
    "    if ventas<=1000:\n",
    "        print(\"Categoria A\")\n",
    "    else:\n",
    "        if ventas<=2000:\n",
    "            print(\"Categoria B\")\n",
    "        else:\n",
    "            if vemtas<=5000:\n",
    "                print(\"Categoria C\")\n",
    "            else:\n",
    "                print(\"Categoria D\")"
   ]
  },
  {
   "cell_type": "code",
   "execution_count": 13,
   "id": "142aaa72",
   "metadata": {},
   "outputs": [],
   "source": [
    "# elif\n",
    "# Problema 03, Solucionar el problema anterior utilizando \" elif \""
   ]
  },
  {
   "cell_type": "code",
   "execution_count": 14,
   "id": "d70ec8de",
   "metadata": {},
   "outputs": [],
   "source": [
    "# elif\n",
    "# Problema 03, Solucionar el problema anterior utilizando elif\n",
    "\n",
    "# Dado el importe total de ventas realizadas por un trabajador (ingresado por teclado,\n",
    "# categorizar que tipo de empleado es, considerando la siguiente tabla:\n",
    "\n",
    "# Categoria: A -> [0, 1000]\n",
    "# Categoria: B -> <1000, 2000]\n",
    "# Categoria: C -> <2000, 5000]\n",
    "# Categoría: D -> <5000, Mas]\n",
    "\n",
    "# Tiempo asignado: 12 minutos"
   ]
  },
  {
   "cell_type": "code",
   "execution_count": 15,
   "id": "74fb3488",
   "metadata": {},
   "outputs": [
    {
     "name": "stdout",
     "output_type": "stream",
     "text": [
      "Importe de ventas realizadas:4999\n",
      "Categoria C\n"
     ]
    }
   ],
   "source": [
    "#Solucion\n",
    "\n",
    "ventas = float(input(\"Importe de ventas realizadas: \"))\n",
    "if ventas<0:\n",
    "    print(\"Datos erroneos\")\n",
    "elif ventas<=1000:\n",
    "    print(\"Categoria A\")\n",
    "elif ventas<=2000:\n",
    "    print(\"Categoria B\")\n",
    "elif ventas<=5000:\n",
    "    print(\"Categoria C\")\n",
    "else:\n",
    "    print(\"Categoria D\")"
   ]
  },
  {
   "cell_type": "code",
   "execution_count": 16,
   "id": "28a1e723",
   "metadata": {},
   "outputs": [],
   "source": [
    "# 2.2 Estructuras repetitivas\n",
    "# for"
   ]
  },
  {
   "cell_type": "code",
   "execution_count": 17,
   "id": "3306bad6",
   "metadata": {},
   "outputs": [],
   "source": [
    "# Problema 01:\n",
    "# Mostrar los elementos de una lista utilizando \" for \""
   ]
  },
  {
   "cell_type": "code",
   "execution_count": 19,
   "id": "becd6fc1",
   "metadata": {},
   "outputs": [
    {
     "name": "stdout",
     "output_type": "stream",
     "text": [
      "Barrios\n",
      "Sevillano\n",
      "Zuñiga\n",
      "Paye\n"
     ]
    }
   ],
   "source": [
    "# Soluciòn\n",
    "aula = [\"Barrios\",\"Sevillano\",\"Zuñiga\",\"Paye\"]\n",
    "3\n",
    "#Por cada alumno que esta en la lista, imprimir alumno\n",
    "for alumno in aula:\n",
    "    print(alumno3)"
   ]
  },
  {
   "cell_type": "code",
   "execution_count": 20,
   "id": "59bf9321",
   "metadata": {},
   "outputs": [],
   "source": [
    "# Problema 02:\n",
    "# Dado una cadena ingresado por teclado,\n",
    "# mostrar cada caracter de la cadena, utilizando la estructura for"
   ]
  },
  {
   "cell_type": "code",
   "execution_count": 21,
   "id": "76eb0728",
   "metadata": {},
   "outputs": [
    {
     "name": "stdout",
     "output_type": "stream",
     "text": [
      "Ingrese Cadena: Universidad Nacional Tecnologica de Lima Sur\n",
      "U\n",
      "n\n",
      "i\n",
      "v\n",
      "e\n",
      "r\n",
      "s\n",
      "i\n",
      "d\n",
      "a\n",
      "d\n",
      " \n",
      "N\n",
      "a\n",
      "c\n",
      "i\n",
      "o\n",
      "n\n",
      "a\n",
      "l\n",
      " \n",
      "T\n",
      "e\n",
      "c\n",
      "n\n",
      "o\n",
      "l\n",
      "o\n",
      "g\n",
      "i\n",
      "c\n",
      "a\n",
      " \n",
      "d\n",
      "e\n",
      " \n",
      "L\n",
      "i\n",
      "m\n",
      "a\n",
      " \n",
      "S\n",
      "u\n",
      "r\n"
     ]
    }
   ],
   "source": [
    "# Soluciòn\n",
    "cadena = input(\"Ingrese Cadena: \")\n",
    "for caracter in cadena:\n",
    "    print(caracter)"
   ]
  },
  {
   "cell_type": "code",
   "execution_count": 23,
   "id": "7a99bd57",
   "metadata": {},
   "outputs": [
    {
     "data": {
      "text/plain": [
       "range(0, 5)"
      ]
     },
     "execution_count": 23,
     "metadata": {},
     "output_type": "execute_result"
    }
   ],
   "source": [
    "# Para generar rangos de numeros utilizamos \" range() \"\n",
    "range(5)\n",
    "#[0,5]"
   ]
  },
  {
   "cell_type": "code",
   "execution_count": 24,
   "id": "b742cf47",
   "metadata": {},
   "outputs": [
    {
     "name": "stdout",
     "output_type": "stream",
     "text": [
      "0\n",
      "1\n",
      "2\n",
      "3\n",
      "4\n",
      "5\n",
      "6\n",
      "7\n",
      "8\n",
      "9\n",
      "10\n"
     ]
    }
   ],
   "source": [
    "# Problema 02\n",
    "# Imprimir los numeros de 0 a 10, utilizando for\n",
    "for numero in range(11):\n",
    "    print(numero)"
   ]
  },
  {
   "cell_type": "code",
   "execution_count": 25,
   "id": "e56c43c4",
   "metadata": {},
   "outputs": [
    {
     "name": "stdout",
     "output_type": "stream",
     "text": [
      "5\n",
      "6\n",
      "7\n",
      "8\n",
      "9\n",
      "10\n"
     ]
    }
   ],
   "source": [
    "# Problema 03\n",
    "# Imprimir los numeros de 5 a 10, utilizando for\n",
    "for numero in range(5,11):\n",
    "    print(numero)"
   ]
  },
  {
   "cell_type": "code",
   "execution_count": 28,
   "id": "92dc5194",
   "metadata": {},
   "outputs": [
    {
     "name": "stdout",
     "output_type": "stream",
     "text": [
      "10\n",
      "12\n",
      "14\n",
      "16\n",
      "18\n",
      "20\n"
     ]
    }
   ],
   "source": [
    "# Problema 04\n",
    "# Imprimir los numeros de 10 a 20, utilizando for\n",
    "for numero in range(10,22,2):\n",
    "    print(numero)"
   ]
  },
  {
   "cell_type": "code",
   "execution_count": 29,
   "id": "30bc396f",
   "metadata": {},
   "outputs": [],
   "source": [
    "# while\n",
    "# Permite ejecutar un conjunto de acciones mientras se cumpla una condicion"
   ]
  },
  {
   "cell_type": "code",
   "execution_count": 32,
   "id": "52ebd639",
   "metadata": {},
   "outputs": [
    {
     "name": "stdout",
     "output_type": "stream",
     "text": [
      "1\n",
      "2\n",
      "3\n",
      "4\n",
      "5\n",
      "6\n",
      "7\n",
      "8\n",
      "9\n",
      "10\n"
     ]
    }
   ],
   "source": [
    "# Ejemplo:\n",
    "numero = 1\n",
    "fin = 10\n",
    "while numero <= fin:\n",
    "    print(numero)\n",
    "    #numero = numero+1\n",
    "    numero += 1"
   ]
  },
  {
   "cell_type": "code",
   "execution_count": null,
   "id": "c83f0c54",
   "metadata": {},
   "outputs": [],
   "source": []
  }
 ],
 "metadata": {
  "kernelspec": {
   "display_name": "Python 3 (ipykernel)",
   "language": "python",
   "name": "python3"
  },
  "language_info": {
   "codemirror_mode": {
    "name": "ipython",
    "version": 3
   },
   "file_extension": ".py",
   "mimetype": "text/x-python",
   "name": "python",
   "nbconvert_exporter": "python",
   "pygments_lexer": "ipython3",
   "version": "3.11.7"
  }
 },
 "nbformat": 4,
 "nbformat_minor": 5
}
