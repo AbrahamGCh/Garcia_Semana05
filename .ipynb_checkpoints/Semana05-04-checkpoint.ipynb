{
 "cells": [
  {
   "cell_type": "markdown",
   "id": "684bee66",
   "metadata": {},
   "source": [
    "# Semana 05\n",
    "\n",
    "Garcia Chavez Abraham Anibal"
   ]
  },
  {
   "cell_type": "raw",
   "id": "d4b9eb7d",
   "metadata": {},
   "source": [
    "Temas\n",
    "\n",
    "1. Colecciones de datos\n",
    "2. Estructuras Decisivas y Estructuras Repetitivas\n",
    "3. Funciones\n",
    "4. Clases y Objetos"
   ]
  },
  {
   "cell_type": "markdown",
   "id": "55fc492d",
   "metadata": {},
   "source": [
    "4. Clases y Objetos"
   ]
  },
  {
   "cell_type": "code",
   "execution_count": 1,
   "id": "0e6508a1",
   "metadata": {},
   "outputs": [],
   "source": [
    "# Problema 01\n",
    "\n",
    "# Crear la siguiente clase:\n",
    "#    - Clase : Persona\n",
    "#    - Atributos : nombre, apellido, fecha_nacimiento, dni"
   ]
  },
  {
   "cell_type": "code",
   "execution_count": 2,
   "id": "65f722f7",
   "metadata": {},
   "outputs": [],
   "source": [
    "class Persona:\n",
    "    nombre = \"\"\n",
    "    apellidos = \"\"\n",
    "    dni = \"\"\n",
    "    talla = 0"
   ]
  },
  {
   "cell_type": "code",
   "execution_count": 3,
   "id": "d197df6d",
   "metadata": {},
   "outputs": [],
   "source": [
    "# creamos un objeto persona1 de la clase Persona()\n",
    "\n",
    "# y le asignamos valores"
   ]
  },
  {
   "cell_type": "code",
   "execution_count": 5,
   "id": "7118e360",
   "metadata": {},
   "outputs": [],
   "source": [
    "# Creaciòn del objeto persona1\n",
    "persona1 = Persona()"
   ]
  },
  {
   "cell_type": "code",
   "execution_count": 6,
   "id": "42037573",
   "metadata": {},
   "outputs": [],
   "source": [
    "# Asignamos valores al objeto\n",
    "\n",
    "persona1.nombre = \"Abraham\"\n",
    "persona1.apellido = \"Garcia Chavez\"\n",
    "persona1.dni = \"87878787\"\n",
    "persona1.talla = 1.72"
   ]
  },
  {
   "cell_type": "code",
   "execution_count": 8,
   "id": "74ad20ab",
   "metadata": {},
   "outputs": [
    {
     "name": "stdout",
     "output_type": "stream",
     "text": [
      "persona1\n",
      "Nombre :Abraham\n",
      "Apellidos: Garcia Chavez\n",
      "DNI: 87878787\n",
      "Talla: 1.72\n"
     ]
    }
   ],
   "source": [
    "# Para mostrar los valores del objeto:\n",
    "\n",
    "print(\"persona1\")\n",
    "print(f\"Nombre :{persona1.nombre}\")\n",
    "print(f\"Apellidos: {persona1.apellido}\")\n",
    "print(f\"DNI: {persona1.dni}\")\n",
    "print(f\"Talla: {persona1.talla}\")"
   ]
  },
  {
   "cell_type": "code",
   "execution_count": 9,
   "id": "1283a05d",
   "metadata": {},
   "outputs": [],
   "source": [
    "# Para utilizar constructores utilizamos: __init__\n",
    "# ¿ Que es un constructor ?\n",
    "# - Es un método\n",
    "# - Sirve para inicializar valores a una clase"
   ]
  },
  {
   "cell_type": "code",
   "execution_count": 10,
   "id": "fbf4ad65",
   "metadata": {},
   "outputs": [],
   "source": [
    "# Problema 02:"
   ]
  },
  {
   "cell_type": "code",
   "execution_count": 11,
   "id": "fb327961",
   "metadata": {},
   "outputs": [],
   "source": [
    "# Crear la siguiente clase y utilizar constructores:\n",
    "# - Clase: Curso\n",
    "# - Atributos: Codigo, Nombre, horas, creditos,"
   ]
  },
  {
   "cell_type": "code",
   "execution_count": 12,
   "id": "2dfbe5fb",
   "metadata": {},
   "outputs": [],
   "source": [
    "#Solucion:\n",
    "class curso:\n",
    "    def __init__(self, codigo, nombre, horas, creditos):\n",
    "        self.codigo = codigo\n",
    "        self.nombre = nombre\n",
    "        self.horas = horas\n",
    "        self.creditos = creditos\n",
    "        \n",
    "    def mostrar_datos_curso(self):\n",
    "        print(f\"Curso: {self.nombre}\")\n",
    "        print(f\"Codigo: {self.codigo}\")\n",
    "        print(f\"Horas: {self.horas}\")\n",
    "        print(f\"Creditos: {self.creditos}\")"
   ]
  },
  {
   "cell_type": "code",
   "execution_count": 15,
   "id": "54223054",
   "metadata": {},
   "outputs": [],
   "source": [
    "# Creamos el objeto curso1 y le mandamos parametros\n",
    "\n",
    "curso1 = curso(\"C0501\",\"LP3\",6,3)"
   ]
  },
  {
   "cell_type": "code",
   "execution_count": 16,
   "id": "4edca756",
   "metadata": {},
   "outputs": [
    {
     "name": "stdout",
     "output_type": "stream",
     "text": [
      "Curso: LP3\n",
      "Codigo: C0501\n",
      "Horas: 6\n",
      "Creditos: 3\n"
     ]
    }
   ],
   "source": [
    "#    Mostramos los datos completos del curso,\n",
    "#    ejecutando el metodo mostrar_datos_curso()\n",
    "curso1.mostrar_datos_curso();"
   ]
  },
  {
   "cell_type": "code",
   "execution_count": null,
   "id": "f1e7b5a9",
   "metadata": {},
   "outputs": [],
   "source": []
  }
 ],
 "metadata": {
  "kernelspec": {
   "display_name": "Python 3 (ipykernel)",
   "language": "python",
   "name": "python3"
  },
  "language_info": {
   "codemirror_mode": {
    "name": "ipython",
    "version": 3
   },
   "file_extension": ".py",
   "mimetype": "text/x-python",
   "name": "python",
   "nbconvert_exporter": "python",
   "pygments_lexer": "ipython3",
   "version": "3.11.7"
  }
 },
 "nbformat": 4,
 "nbformat_minor": 5
}
